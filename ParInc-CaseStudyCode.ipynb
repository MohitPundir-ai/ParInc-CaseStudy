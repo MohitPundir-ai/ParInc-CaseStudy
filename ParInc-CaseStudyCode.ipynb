{
 "cells": [
  {
   "cell_type": "markdown",
   "metadata": {},
   "source": [
    "DATA SET: Par Inc., is a major manufacturer of golf equipment.\n",
    "\n",
    "Author: MOHIT PUDNIR"
   ]
  },
  {
   "cell_type": "code",
   "execution_count": 221,
   "metadata": {},
   "outputs": [],
   "source": [
    "#importing the essential libraries\n",
    "import numpy as np\n",
    "import pandas as pd\n",
    "import matplotlib.pyplot as plt\n",
    "import seaborn as sns\n",
    "from scipy import stats"
   ]
  },
  {
   "cell_type": "code",
   "execution_count": 222,
   "metadata": {},
   "outputs": [],
   "source": [
    "#Just for Record\n",
    "#stats.ttest_ind()\n",
    "#stats.levene()\n",
    "#stats.shapiro()\n",
    "#stats.iqr()"
   ]
  },
  {
   "cell_type": "code",
   "execution_count": 223,
   "metadata": {},
   "outputs": [
    {
     "name": "stdout",
     "output_type": "stream",
     "text": [
      "(40, 2)\n"
     ]
    }
   ],
   "source": [
    "#importing the dataset\n",
    "dataset = pd.read_excel(\"SM4-Golf.xls\")\n",
    "print(dataset.shape)"
   ]
  },
  {
   "cell_type": "code",
   "execution_count": 224,
   "metadata": {},
   "outputs": [
    {
     "data": {
      "text/html": [
       "<div>\n",
       "<style scoped>\n",
       "    .dataframe tbody tr th:only-of-type {\n",
       "        vertical-align: middle;\n",
       "    }\n",
       "\n",
       "    .dataframe tbody tr th {\n",
       "        vertical-align: top;\n",
       "    }\n",
       "\n",
       "    .dataframe thead th {\n",
       "        text-align: right;\n",
       "    }\n",
       "</style>\n",
       "<table border=\"1\" class=\"dataframe\">\n",
       "  <thead>\n",
       "    <tr style=\"text-align: right;\">\n",
       "      <th></th>\n",
       "      <th>Current</th>\n",
       "      <th>New</th>\n",
       "    </tr>\n",
       "  </thead>\n",
       "  <tbody>\n",
       "    <tr>\n",
       "      <th>0</th>\n",
       "      <td>264</td>\n",
       "      <td>277</td>\n",
       "    </tr>\n",
       "    <tr>\n",
       "      <th>1</th>\n",
       "      <td>261</td>\n",
       "      <td>269</td>\n",
       "    </tr>\n",
       "    <tr>\n",
       "      <th>2</th>\n",
       "      <td>267</td>\n",
       "      <td>263</td>\n",
       "    </tr>\n",
       "    <tr>\n",
       "      <th>3</th>\n",
       "      <td>272</td>\n",
       "      <td>266</td>\n",
       "    </tr>\n",
       "    <tr>\n",
       "      <th>4</th>\n",
       "      <td>258</td>\n",
       "      <td>262</td>\n",
       "    </tr>\n",
       "  </tbody>\n",
       "</table>\n",
       "</div>"
      ],
      "text/plain": [
       "   Current  New\n",
       "0      264  277\n",
       "1      261  269\n",
       "2      267  263\n",
       "3      272  266\n",
       "4      258  262"
      ]
     },
     "execution_count": 224,
     "metadata": {},
     "output_type": "execute_result"
    }
   ],
   "source": [
    "dataset.head()"
   ]
  },
  {
   "cell_type": "code",
   "execution_count": 225,
   "metadata": {},
   "outputs": [
    {
     "data": {
      "text/plain": [
       "False"
      ]
     },
     "execution_count": 225,
     "metadata": {},
     "output_type": "execute_result"
    }
   ],
   "source": [
    "dataset.isnull().values.any()"
   ]
  },
  {
   "cell_type": "code",
   "execution_count": 226,
   "metadata": {},
   "outputs": [],
   "source": [
    "#Observation\n",
    "#1. Data looks clean, there is no missing values."
   ]
  },
  {
   "cell_type": "code",
   "execution_count": 227,
   "metadata": {},
   "outputs": [
    {
     "data": {
      "text/html": [
       "<div>\n",
       "<style scoped>\n",
       "    .dataframe tbody tr th:only-of-type {\n",
       "        vertical-align: middle;\n",
       "    }\n",
       "\n",
       "    .dataframe tbody tr th {\n",
       "        vertical-align: top;\n",
       "    }\n",
       "\n",
       "    .dataframe thead th {\n",
       "        text-align: right;\n",
       "    }\n",
       "</style>\n",
       "<table border=\"1\" class=\"dataframe\">\n",
       "  <thead>\n",
       "    <tr style=\"text-align: right;\">\n",
       "      <th></th>\n",
       "      <th>Current</th>\n",
       "      <th>New</th>\n",
       "    </tr>\n",
       "  </thead>\n",
       "  <tbody>\n",
       "    <tr>\n",
       "      <th>count</th>\n",
       "      <td>40.000000</td>\n",
       "      <td>40.000000</td>\n",
       "    </tr>\n",
       "    <tr>\n",
       "      <th>mean</th>\n",
       "      <td>270.275000</td>\n",
       "      <td>267.500000</td>\n",
       "    </tr>\n",
       "    <tr>\n",
       "      <th>std</th>\n",
       "      <td>8.752985</td>\n",
       "      <td>9.896904</td>\n",
       "    </tr>\n",
       "    <tr>\n",
       "      <th>min</th>\n",
       "      <td>255.000000</td>\n",
       "      <td>250.000000</td>\n",
       "    </tr>\n",
       "    <tr>\n",
       "      <th>25%</th>\n",
       "      <td>263.000000</td>\n",
       "      <td>262.000000</td>\n",
       "    </tr>\n",
       "    <tr>\n",
       "      <th>50%</th>\n",
       "      <td>270.000000</td>\n",
       "      <td>265.000000</td>\n",
       "    </tr>\n",
       "    <tr>\n",
       "      <th>75%</th>\n",
       "      <td>275.250000</td>\n",
       "      <td>274.500000</td>\n",
       "    </tr>\n",
       "    <tr>\n",
       "      <th>max</th>\n",
       "      <td>289.000000</td>\n",
       "      <td>289.000000</td>\n",
       "    </tr>\n",
       "  </tbody>\n",
       "</table>\n",
       "</div>"
      ],
      "text/plain": [
       "          Current         New\n",
       "count   40.000000   40.000000\n",
       "mean   270.275000  267.500000\n",
       "std      8.752985    9.896904\n",
       "min    255.000000  250.000000\n",
       "25%    263.000000  262.000000\n",
       "50%    270.000000  265.000000\n",
       "75%    275.250000  274.500000\n",
       "max    289.000000  289.000000"
      ]
     },
     "execution_count": 227,
     "metadata": {},
     "output_type": "execute_result"
    }
   ],
   "source": [
    "dataset.describe()"
   ]
  },
  {
   "cell_type": "code",
   "execution_count": 228,
   "metadata": {},
   "outputs": [
    {
     "name": "stdout",
     "output_type": "stream",
     "text": [
      "<class 'pandas.core.frame.DataFrame'>\n",
      "RangeIndex: 40 entries, 0 to 39\n",
      "Data columns (total 2 columns):\n",
      "Current    40 non-null int64\n",
      "New        40 non-null int64\n",
      "dtypes: int64(2)\n",
      "memory usage: 720.0 bytes\n"
     ]
    }
   ],
   "source": [
    "dataset.info()"
   ]
  },
  {
   "cell_type": "code",
   "execution_count": 229,
   "metadata": {},
   "outputs": [
    {
     "data": {
      "image/png": "[encoded data removed]",
      "text/plain": [
       "<Figure size 1296x576 with 2 Axes>"
      ]
     },
     "metadata": {
      "needs_background": "light"
     },
     "output_type": "display_data"
    }
   ],
   "source": [
    "dataset.hist(figsize=(18,8),color=\"c\",grid=False)\n",
    "plt.show()"
   ]
  },
  {
   "cell_type": "code",
   "execution_count": 230,
   "metadata": {},
   "outputs": [
    {
     "data": {
      "text/plain": [
       "<matplotlib.axes._subplots.AxesSubplot at 0x1c24c066d8>"
      ]
     },
     "execution_count": 230,
     "metadata": {},
     "output_type": "execute_result"
    },
    {
     "data": {
      "image/png": "[encoded data removed]",
      "text/plain": [
       "<Figure size 432x288 with 1 Axes>"
      ]
     },
     "metadata": {
      "needs_background": "light"
     },
     "output_type": "display_data"
    }
   ],
   "source": [
    "sns.boxplot(data=dataset, order=[\"Current\", \"New\"])\n",
    "sns.swarmplot(data=dataset, color=\".25\")"
   ]
  },
  {
   "cell_type": "code",
   "execution_count": 231,
   "metadata": {
    "scrolled": true
   },
   "outputs": [],
   "source": [
    "#Observations\n",
    "# 1. There are no outliers.\n",
    "# 2. The range covered by new balls are almost the same as compared to Current balls, except new has min at 250 feet.\n",
    "# 3. Just by looking at the descriptive statistics foreach model, we can initially conclude that New model \n",
    "#    doesn't have a longer range of distance \n",
    "#    basedon the 40 samples with a mean of 263~265 compare to 270~275 for new model.\n",
    "\n",
    "# Lets check further"
   ]
  },
  {
   "cell_type": "code",
   "execution_count": 234,
   "metadata": {},
   "outputs": [
    {
     "data": {
      "text/plain": [
       "<matplotlib.axes._subplots.AxesSubplot at 0x1c24a90710>"
      ]
     },
     "execution_count": 234,
     "metadata": {},
     "output_type": "execute_result"
    },
    {
     "data": {
      "image/png": "[encoded data removed]",
      "text/plain": [
       "<Figure size 432x288 with 1 Axes>"
      ]
     },
     "metadata": {
      "needs_background": "light"
     },
     "output_type": "display_data"
    }
   ],
   "source": [
    "Current_Dist = pd.Series(dataset.Current)\n",
    "New_Dist = pd.Series(dataset.New)\n",
    "sns.distplot(Current_Dist, hist=False, color=\"y\", label=\"Current\")\n",
    "sns.distplot(New_Dist, hist=False, color=\"g\", label=\"New\")"
   ]
  },
  {
   "cell_type": "code",
   "execution_count": 235,
   "metadata": {},
   "outputs": [],
   "source": [
    "#Observations\n",
    "# Distribution plot indicate not much visual difference between trajectory distance distribution of both New and Current."
   ]
  },
  {
   "cell_type": "markdown",
   "metadata": {},
   "source": [
    "ASSUMPTIONS:\n",
    "1. To test further hypothesis, we set α at .05 and our rejection criteria is Reject Ho and\n",
    "accept Ha if F > Fc or P < α (.05) (1 - 0.95). \n",
    "2. Since hypothesis test done thru statistic tools doesn’t indicate Fc, we will use the P-value approach.\n",
    "3. Shapiro test is the test of NORMALITY\n",
    "4. Levene test is used to assess the quality of varience."
   ]
  },
  {
   "cell_type": "markdown",
   "metadata": {},
   "source": [
    "# Performing T-Test for 2 independent variables"
   ]
  },
  {
   "cell_type": "code",
   "execution_count": 236,
   "metadata": {},
   "outputs": [
    {
     "name": "stdout",
     "output_type": "stream",
     "text": [
      "0     264\n",
      "1     261\n",
      "2     267\n",
      "3     272\n",
      "4     258\n",
      "5     283\n",
      "6     258\n",
      "7     266\n",
      "8     259\n",
      "9     270\n",
      "10    263\n",
      "11    264\n",
      "12    284\n",
      "13    263\n",
      "14    260\n",
      "15    283\n",
      "16    255\n",
      "17    272\n",
      "18    266\n",
      "19    268\n",
      "20    270\n",
      "21    287\n",
      "22    289\n",
      "23    280\n",
      "24    272\n",
      "25    275\n",
      "26    265\n",
      "27    260\n",
      "28    278\n",
      "29    275\n",
      "30    281\n",
      "31    274\n",
      "32    273\n",
      "33    263\n",
      "34    275\n",
      "35    267\n",
      "36    279\n",
      "37    274\n",
      "38    276\n",
      "39    262\n",
      "Name: Current, dtype: int64\n",
      "New_Dist data :-\n",
      "\n",
      "0     277\n",
      "1     269\n",
      "2     263\n",
      "3     266\n",
      "4     262\n",
      "5     251\n",
      "6     262\n",
      "7     289\n",
      "8     286\n",
      "9     264\n",
      "10    274\n",
      "11    266\n",
      "12    262\n",
      "13    271\n",
      "14    260\n",
      "15    281\n",
      "16    250\n",
      "17    263\n",
      "18    278\n",
      "19    264\n",
      "20    272\n",
      "21    259\n",
      "22    264\n",
      "23    280\n",
      "24    274\n",
      "25    281\n",
      "26    276\n",
      "27    269\n",
      "28    268\n",
      "29    262\n",
      "30    283\n",
      "31    250\n",
      "32    253\n",
      "33    260\n",
      "34    270\n",
      "35    263\n",
      "36    261\n",
      "37    255\n",
      "38    263\n",
      "39    279\n",
      "Name: New, dtype: int64\n",
      "Current_Dist mean value: 270.275\n",
      "New_Dist mean value: 267.5\n",
      "Current_Dist std value: 8.642880017679293\n",
      "New_Dist std value: 9.772410142846033\n",
      "p-value 0.18793228491854663\n",
      "we accept null hypothesis\n"
     ]
    }
   ],
   "source": [
    "#Current_Dist = np.genfromint(dataset.Current,  delimiter=\",\")\n",
    "#New_Dist = np.genfromint(dataset.New,  delimiter=\",\")\n",
    "\n",
    "from scipy.stats import ttest_ind\n",
    "print(Current_Dist)\n",
    "print(\"New_Dist data :-\\n\")\n",
    "print(New_Dist)\n",
    "Current_Dist_mean = np.mean(Current_Dist)\n",
    "New_Dist_mean = np.mean(New_Dist)\n",
    "\n",
    "print(\"Current_Dist mean value:\",Current_Dist_mean)\n",
    "print(\"New_Dist mean value:\",New_Dist_mean)\n",
    "\n",
    "Current_Dist_std = np.std(Current_Dist)\n",
    "New_Dist_std = np.std(New_Dist)\n",
    "\n",
    "print(\"Current_Dist std value:\",Current_Dist_std)\n",
    "print(\"New_Dist std value:\",New_Dist_std)\n",
    "\n",
    "ttest,pval = ttest_ind(Current_Dist,New_Dist)\n",
    "print(\"p-value\",pval)\n",
    "\n",
    "if pval <0.05:\n",
    "  print(\"we reject null hypothesis\")\n",
    "else:\n",
    "  print(\"we accept null hypothesis\")"
   ]
  },
  {
   "cell_type": "markdown",
   "metadata": {},
   "source": [
    "Conclusion: \n",
    "1. P-VALUE is .187 which is greater than .05\n",
    "2. Hence, We accept the NULL hypothesis."
   ]
  },
  {
   "cell_type": "markdown",
   "metadata": {},
   "source": [
    "# Shapiro and Lavene Test"
   ]
  },
  {
   "cell_type": "code",
   "execution_count": 237,
   "metadata": {},
   "outputs": [
    {
     "name": "stdout",
     "output_type": "stream",
     "text": [
      "Statistics=0.971, p=0.379\n",
      "Sample looks Gaussian (Accept H0))\n"
     ]
    }
   ],
   "source": [
    "## Shapiro-Wilk Test for CURRENT BALLS\n",
    "from scipy.stats import shapiro\n",
    "# generate univariate observations\n",
    "data = dataset.Current\n",
    "# normality test\n",
    "stat, p = shapiro(data)\n",
    "print('Statistics=%.3f, p=%.3f' % (stat, p))\n",
    "# interpret\n",
    "alpha = 0.05\n",
    "if p > alpha:\n",
    "\tprint('Sample looks Gaussian (Accept H0))')\n",
    "else:\n",
    "\tprint('Sample does not look Gaussian (reject H0)')"
   ]
  },
  {
   "cell_type": "code",
   "execution_count": 238,
   "metadata": {},
   "outputs": [
    {
     "name": "stdout",
     "output_type": "stream",
     "text": [
      "Statistics=0.968, p=0.306\n",
      "Sample looks Gaussian (Accept H0)\n"
     ]
    }
   ],
   "source": [
    "## Shapiro-Wilk Test for NEW BALLS\n",
    "from scipy.stats import shapiro\n",
    "# generate univariate observations\n",
    "data = dataset.New\n",
    "# normality test\n",
    "stat, p = shapiro(data)\n",
    "print('Statistics=%.3f, p=%.3f' % (stat, p))\n",
    "# interpret\n",
    "alpha = 0.05\n",
    "if p > alpha:\n",
    "\tprint('Sample looks Gaussian (Accept H0)')\n",
    "else:\n",
    "\tprint('Sample does not look Gaussian (reject H0)')"
   ]
  },
  {
   "cell_type": "markdown",
   "metadata": {},
   "source": [
    "###################################################"
   ]
  },
  {
   "cell_type": "markdown",
   "metadata": {},
   "source": [
    "## Conclusion BY SHAPIRO TEST #####\n",
    "1. We can infer that P-VALUE > Alpha so Null hypothesis applies. SO, test dataset does not significantly deviate from normal.\n",
    "2. NOTE: Alpha is the level of Significiance/probality Value"
   ]
  },
  {
   "cell_type": "code",
   "execution_count": 239,
   "metadata": {},
   "outputs": [
    {
     "name": "stdout",
     "output_type": "stream",
     "text": [
      "Statistics=0.255, p=0.615\n",
      "Sample has homogenity (Accept H0)\n"
     ]
    }
   ],
   "source": [
    "## Levene variance test\n",
    "from scipy.stats import levene\n",
    "stat, p = levene(dataset.Current, dataset.New)\n",
    "print('Statistics=%.3f, p=%.3f' % (stat, p))\n",
    "if p > alpha:\n",
    "\tprint('Sample has homogenity (Accept H0)')\n",
    "else:\n",
    "\tprint('Sample does not has homoginity (reject H0)')"
   ]
  },
  {
   "cell_type": "markdown",
   "metadata": {},
   "source": [
    "## Conclusion BY LEVENE TEST\n",
    "1. As the p-VALUE > Alpha,we can infer that both the Current & New Ball distance data shows the homoginity.\n",
    "2. NOTE: Alpha is the level of Significiance/probality Value"
   ]
  },
  {
   "cell_type": "markdown",
   "metadata": {},
   "source": [
    "######################################################################################\n",
    "######################################################################################"
   ]
  },
  {
   "cell_type": "markdown",
   "metadata": {},
   "source": [
    "# POOLED STANDARD DEVIATION"
   ]
  },
  {
   "cell_type": "code",
   "execution_count": 240,
   "metadata": {},
   "outputs": [],
   "source": [
    "from numpy import std, mean, sqrt\n",
    "\n",
    "#correct if the population S.D. is expected to be equal for the two groups.\n",
    "def cohen_d(x,y):\n",
    "    nx = len(x)\n",
    "    ny = len(y)\n",
    "    dof = nx + ny - 2"
   ]
  },
  {
   "cell_type": "code",
   "execution_count": 241,
   "metadata": {},
   "outputs": [],
   "source": [
    "#dummy data\n",
    "x = np.array(dataset.Current)\n",
    "y = np.array(dataset.New)"
   ]
  },
  {
   "cell_type": "code",
   "execution_count": 242,
   "metadata": {},
   "outputs": [
    {
     "name": "stdout",
     "output_type": "stream",
     "text": [
      "Pooled Standard Deviation = 9.342469200871404\n"
     ]
    }
   ],
   "source": [
    "#correct only if nx=ny\n",
    "#d = (mean(x) - mean(y)) / sqrt((std(x, ddof=1) ** 2 + std(y, ddof=1) ** 2) / 2.0)\n",
    "d = sqrt((std(x, ddof=1) ** 2 + std(y, ddof=1) ** 2) / 2.0)\n",
    "e = (mean(x) - mean(y))/d\n",
    "print (\"Pooled Standard Deviation = \" + str(d))\n",
    "if (len(x) != len(y)):\n",
    "    print(\"The first method is incorrect because nx is not equal to ny.\")\n"
   ]
  },
  {
   "cell_type": "markdown",
   "metadata": {},
   "source": [
    "# Effect Size"
   ]
  },
  {
   "cell_type": "code",
   "execution_count": 243,
   "metadata": {},
   "outputs": [
    {
     "name": "stdout",
     "output_type": "stream",
     "text": [
      "Effect size = 0.2970306821820877\n"
     ]
    }
   ],
   "source": [
    "print(\"Effect size = \"+ str(e))"
   ]
  },
  {
   "cell_type": "code",
   "execution_count": 244,
   "metadata": {},
   "outputs": [],
   "source": [
    "#CONCLUSION:\n",
    "#   1. Pooled SD = 9.34, which is high, but the effect size is 0.29.\n"
   ]
  },
  {
   "cell_type": "markdown",
   "metadata": {},
   "source": [
    "# POWER TEST"
   ]
  },
  {
   "cell_type": "code",
   "execution_count": 245,
   "metadata": {},
   "outputs": [
    {
     "name": "stdout",
     "output_type": "stream",
     "text": [
      "Sample Size: 187.621\n"
     ]
    }
   ],
   "source": [
    "# estimate sample size via power analysis\n",
    "from statsmodels.stats.power import TTestIndPower\n",
    "# parameters\n",
    "power = 0.8\n",
    "effect = 0.29\n",
    "alpha = 0.05\n",
    "# perform power analysis\n",
    "analysis = TTestIndPower()\n",
    "result = analysis.solve_power(effect, power=power, nobs1=None, ratio=1.0, alpha=alpha)\n",
    "print('Sample Size: %.3f' % result)"
   ]
  },
  {
   "cell_type": "markdown",
   "metadata": {},
   "source": [
    "# INFERENCE"
   ]
  },
  {
   "cell_type": "markdown",
   "metadata": {},
   "source": [
    "According to the Power of TEST:\n",
    "\n",
    "NOTE: If we would have around 187 samples instead of 40 we would have done better.\n",
    "1. By all the above analysis we have conculed that the test will ACCEPT THE NULL HYPOTHESIS(H0 is true).\n",
    "2. Although we concluded to \"ACCEPT\" Null Hypothesis in our analysis above, the company Par Inc has proposed to use the new balls, hence STATE of Nature in real scenario is \"NULL False\" or Type II error(b). Power of test is 1-b, Power of our test is 95%. And by our confidence intervals, we can say that there is no significance difference between the driving distances of Current Model and New Model.\n",
    "3. We would now have to recommend  Par, Inc. : they should NOT launch this new product because the new model is not an improvement in distance compared to the old model. Our recommendation for the company (Par, Inc.) is to continue with further thier research to improved cut-resistant and quality of balls. However, next time besides testing the driving distance, they should also consider other factors like quality, design, availability of suppliers and cost per piece. This is import before lauching the product in market and doing full flegded production."
   ]
  },
  {
   "cell_type": "code",
   "execution_count": 220,
   "metadata": {},
   "outputs": [],
   "source": []
  },
  {
   "cell_type": "code",
   "execution_count": null,
   "metadata": {},
   "outputs": [],
   "source": []
  }
 ],
 "metadata": {
  "kernelspec": {
   "display_name": "Python 3",
   "language": "python",
   "name": "python3"
  },
  "language_info": {
   "codemirror_mode": {
    "name": "ipython",
    "version": 3
   },
   "file_extension": ".py",
   "mimetype": "text/x-python",
   "name": "python",
   "nbconvert_exporter": "python",
   "pygments_lexer": "ipython3",
   "version": "3.7.1"
  }
 },
 "nbformat": 4,
 "nbformat_minor": 2
}
